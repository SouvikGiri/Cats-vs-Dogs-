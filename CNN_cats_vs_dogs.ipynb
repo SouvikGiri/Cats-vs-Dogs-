{
  "nbformat": 4,
  "nbformat_minor": 0,
  "metadata": {
    "colab": {
      "name": "CNN cats vs dogs.ipynb",
      "provenance": [],
      "collapsed_sections": []
    },
    "kernelspec": {
      "name": "python3",
      "display_name": "Python 3"
    },
    "language_info": {
      "name": "python"
    }
  },
  "cells": [
    {
      "cell_type": "code",
      "metadata": {
        "id": "L-O-OiucsBJP"
      },
      "source": [
        "import tensorflow as tf"
      ],
      "execution_count": null,
      "outputs": []
    },
    {
      "cell_type": "code",
      "metadata": {
        "id": "r3n-KdN5sI1m"
      },
      "source": [
        "from keras.preprocessing.image import ImageDataGenerator"
      ],
      "execution_count": null,
      "outputs": []
    },
    {
      "cell_type": "code",
      "metadata": {
        "colab": {
          "base_uri": "https://localhost:8080/"
        },
        "id": "ZJFIz95RF35i",
        "outputId": "86ed67a9-a8eb-4205-bea4-ad37025f6c06"
      },
      "source": [
        "from google.colab import drive\n",
        "drive.mount('/content/drive')"
      ],
      "execution_count": null,
      "outputs": [
        {
          "output_type": "stream",
          "name": "stdout",
          "text": [
            "Drive already mounted at /content/drive; to attempt to forcibly remount, call drive.mount(\"/content/drive\", force_remount=True).\n"
          ]
        }
      ]
    },
    {
      "cell_type": "code",
      "metadata": {
        "colab": {
          "base_uri": "https://localhost:8080/"
        },
        "id": "GMNmOqn7sKtF",
        "outputId": "0dec1838-9382-4b97-bf5d-260df4fee418"
      },
      "source": [
        "#data preprocessing\n",
        "train_datagen = ImageDataGenerator(\n",
        "        rescale=1./255,\n",
        "        shear_range=0.2,\n",
        "        zoom_range=0.2,\n",
        "        horizontal_flip=True)\n",
        "\n",
        "train_generator = train_datagen.flow_from_directory(\n",
        "    directory='/content/drive/MyDrive/CNN cats and dogs/dataset/training_set',\n",
        "    target_size=(64,64),\n",
        "    batch_size=32,\n",
        "    class_mode='binary')"
      ],
      "execution_count": null,
      "outputs": [
        {
          "output_type": "stream",
          "name": "stdout",
          "text": [
            "Found 8005 images belonging to 2 classes.\n"
          ]
        }
      ]
    },
    {
      "cell_type": "code",
      "metadata": {
        "colab": {
          "base_uri": "https://localhost:8080/"
        },
        "id": "Wxro34N3simv",
        "outputId": "9dc5d1b2-f8aa-45d7-f2b9-068e03ee1391"
      },
      "source": [
        "test_datagen = ImageDataGenerator(rescale=1./255)\n",
        "validation_generator = test_datagen.flow_from_directory(\n",
        "        '/content/drive/MyDrive/CNN cats and dogs/dataset/test_set',\n",
        "        target_size=(64, 64),\n",
        "        batch_size=32,\n",
        "        class_mode='binary')"
      ],
      "execution_count": null,
      "outputs": [
        {
          "output_type": "stream",
          "name": "stdout",
          "text": [
            "Found 2023 images belonging to 2 classes.\n"
          ]
        }
      ]
    },
    {
      "cell_type": "code",
      "metadata": {
        "id": "n1KqSB4eGzTg"
      },
      "source": [
        "#Build CNN Model\n",
        "cnn = tf.keras.models.Sequential()\n"
      ],
      "execution_count": null,
      "outputs": []
    },
    {
      "cell_type": "code",
      "metadata": {
        "id": "_BSgmursHOEu"
      },
      "source": [
        "cnn.add(tf.keras.layers.Conv2D(filters = 32,kernel_size = 3, activation = 'relu',\n",
        "                                input_shape = [64,64,3]))"
      ],
      "execution_count": null,
      "outputs": []
    },
    {
      "cell_type": "code",
      "metadata": {
        "id": "WoT2dMIXIDTQ"
      },
      "source": [
        "cnn.add(tf.keras.layers.MaxPool2D(pool_size = 2, strides = 2))"
      ],
      "execution_count": null,
      "outputs": []
    },
    {
      "cell_type": "code",
      "metadata": {
        "id": "IMyFvf1sJDNu"
      },
      "source": [
        "#add 1 more layer \n",
        "cnn.add(tf.keras.layers.Conv2D(filters = 32,kernel_size = 3, activation = 'relu'))\n",
        "\n",
        "cnn.add(tf.keras.layers.MaxPool2D(pool_size = 2, strides = 2))"
      ],
      "execution_count": null,
      "outputs": []
    },
    {
      "cell_type": "code",
      "metadata": {
        "id": "vi7ozGcPJY2S"
      },
      "source": [
        "#Flatten\n",
        "cnn.add(tf.keras.layers.Flatten())"
      ],
      "execution_count": null,
      "outputs": []
    },
    {
      "cell_type": "code",
      "metadata": {
        "id": "zkbA9odqJpMm"
      },
      "source": [
        "#Full Connection\n",
        "cnn.add(tf.keras.layers.Dense(units = 128, activation = 'relu'))"
      ],
      "execution_count": null,
      "outputs": []
    },
    {
      "cell_type": "code",
      "metadata": {
        "id": "qhFMcFzkJ-z2"
      },
      "source": [
        "#output layer\n",
        "cnn.add(tf.keras.layers.Dense(units = 1, activation = 'sigmoid'))"
      ],
      "execution_count": null,
      "outputs": []
    },
    {
      "cell_type": "code",
      "metadata": {
        "id": "zjOjvyI5KQCd"
      },
      "source": [
        "#compile the model\n",
        "cnn.compile(optimizer = 'adam', loss = 'binary_crossentropy', metrics=['accuracy'] )"
      ],
      "execution_count": null,
      "outputs": []
    },
    {
      "cell_type": "code",
      "metadata": {
        "colab": {
          "base_uri": "https://localhost:8080/"
        },
        "id": "bq5H1ooUKwhl",
        "outputId": "eabb71da-b3d1-45c0-cf7d-6284628f9a15"
      },
      "source": [
        "#Train The Model\n",
        "history = cnn.fit(x = train_generator, validation_data = validation_generator, epochs =20)"
      ],
      "execution_count": 49,
      "outputs": [
        {
          "output_type": "stream",
          "name": "stdout",
          "text": [
            "Epoch 1/20\n",
            "251/251 [==============================] - 80s 318ms/step - loss: 0.4658 - accuracy: 0.7780 - val_loss: 0.5224 - val_accuracy: 0.7617\n",
            "Epoch 2/20\n",
            "251/251 [==============================] - 80s 318ms/step - loss: 0.4516 - accuracy: 0.7883 - val_loss: 0.4721 - val_accuracy: 0.7781\n",
            "Epoch 3/20\n",
            "251/251 [==============================] - 80s 318ms/step - loss: 0.4341 - accuracy: 0.7975 - val_loss: 0.4634 - val_accuracy: 0.7958\n",
            "Epoch 4/20\n",
            "251/251 [==============================] - 80s 318ms/step - loss: 0.4176 - accuracy: 0.8071 - val_loss: 0.5102 - val_accuracy: 0.7746\n",
            "Epoch 5/20\n",
            "251/251 [==============================] - 80s 318ms/step - loss: 0.4123 - accuracy: 0.8130 - val_loss: 0.4895 - val_accuracy: 0.7736\n",
            "Epoch 6/20\n",
            "251/251 [==============================] - 80s 317ms/step - loss: 0.3729 - accuracy: 0.8319 - val_loss: 0.4677 - val_accuracy: 0.8028\n",
            "Epoch 7/20\n",
            "251/251 [==============================] - 80s 320ms/step - loss: 0.3763 - accuracy: 0.8291 - val_loss: 0.4464 - val_accuracy: 0.8018\n",
            "Epoch 8/20\n",
            "251/251 [==============================] - 80s 318ms/step - loss: 0.3513 - accuracy: 0.8462 - val_loss: 0.5159 - val_accuracy: 0.7756\n",
            "Epoch 9/20\n",
            "251/251 [==============================] - 80s 318ms/step - loss: 0.3336 - accuracy: 0.8540 - val_loss: 0.5004 - val_accuracy: 0.7835\n",
            "Epoch 10/20\n",
            "251/251 [==============================] - 79s 317ms/step - loss: 0.3287 - accuracy: 0.8557 - val_loss: 0.4783 - val_accuracy: 0.7934\n",
            "Epoch 11/20\n",
            "251/251 [==============================] - 80s 318ms/step - loss: 0.3028 - accuracy: 0.8702 - val_loss: 0.5090 - val_accuracy: 0.7840\n",
            "Epoch 12/20\n",
            "251/251 [==============================] - 80s 318ms/step - loss: 0.3034 - accuracy: 0.8665 - val_loss: 0.4911 - val_accuracy: 0.7978\n",
            "Epoch 13/20\n",
            "251/251 [==============================] - 79s 316ms/step - loss: 0.2791 - accuracy: 0.8827 - val_loss: 0.5076 - val_accuracy: 0.7929\n",
            "Epoch 14/20\n",
            "251/251 [==============================] - 80s 317ms/step - loss: 0.2639 - accuracy: 0.8858 - val_loss: 0.5145 - val_accuracy: 0.7973\n",
            "Epoch 15/20\n",
            "251/251 [==============================] - 80s 317ms/step - loss: 0.2426 - accuracy: 0.9026 - val_loss: 0.5399 - val_accuracy: 0.8062\n",
            "Epoch 16/20\n",
            "251/251 [==============================] - 80s 317ms/step - loss: 0.2278 - accuracy: 0.9077 - val_loss: 0.5634 - val_accuracy: 0.7968\n",
            "Epoch 17/20\n",
            "251/251 [==============================] - 80s 319ms/step - loss: 0.2280 - accuracy: 0.9022 - val_loss: 0.6445 - val_accuracy: 0.7696\n",
            "Epoch 18/20\n",
            "251/251 [==============================] - 80s 318ms/step - loss: 0.2176 - accuracy: 0.9122 - val_loss: 0.5479 - val_accuracy: 0.8018\n",
            "Epoch 19/20\n",
            "251/251 [==============================] - 80s 318ms/step - loss: 0.1946 - accuracy: 0.9232 - val_loss: 0.5841 - val_accuracy: 0.7954\n",
            "Epoch 20/20\n",
            "251/251 [==============================] - 80s 319ms/step - loss: 0.1907 - accuracy: 0.9270 - val_loss: 0.5885 - val_accuracy: 0.7944\n"
          ]
        }
      ]
    },
    {
      "cell_type": "code",
      "metadata": {
        "id": "h7vBZYEJLQaN"
      },
      "source": [
        "#make single prediction\n",
        "import numpy as np\n",
        "from keras.preprocessing import image\n",
        "test_image = image.load_img(\"/content/drive/MyDrive/CNN cats and dogs/dataset/single_prediction/predict1.jpg\", target_size = (64,64))\n",
        "test_image = image.img_to_array(test_image)\n",
        "test_image = np.expand_dims(test_image, axis = 0)\n",
        "result = cnn.predict(test_image)\n",
        "train_generator.class_indices\n",
        "if result[0][0] == -1:\n",
        "  prediction  = 'dog'\n",
        "else:\n",
        "  prediction = 'cat'\n"
      ],
      "execution_count": 50,
      "outputs": []
    },
    {
      "cell_type": "code",
      "metadata": {
        "id": "dp8d1ti9V_Co",
        "colab": {
          "base_uri": "https://localhost:8080/",
          "height": 35
        },
        "outputId": "41b33105-9238-41e3-aa89-609ce7c3c665"
      },
      "source": [
        "prediction"
      ],
      "execution_count": 47,
      "outputs": [
        {
          "output_type": "execute_result",
          "data": {
            "application/vnd.google.colaboratory.intrinsic+json": {
              "type": "string"
            },
            "text/plain": [
              "'cat'"
            ]
          },
          "metadata": {},
          "execution_count": 47
        }
      ]
    },
    {
      "cell_type": "code",
      "metadata": {
        "id": "fcHEq3LBiRtR",
        "colab": {
          "base_uri": "https://localhost:8080/"
        },
        "outputId": "d57a225f-257d-4e6b-d9b6-8eb0f06aee6f"
      },
      "source": [
        "import matplotlib.pyplot as plt\n",
        "print(history.history.keys())\n"
      ],
      "execution_count": 52,
      "outputs": [
        {
          "output_type": "stream",
          "name": "stdout",
          "text": [
            "dict_keys(['loss', 'accuracy', 'val_loss', 'val_accuracy'])\n"
          ]
        }
      ]
    },
    {
      "cell_type": "code",
      "metadata": {
        "colab": {
          "base_uri": "https://localhost:8080/",
          "height": 283
        },
        "id": "IjucCVwcw3NM",
        "outputId": "4f22c7b0-c01f-412e-f6c9-02532f12a4f1"
      },
      "source": [
        "plt.plot(history.history['accuracy'])\n",
        "plt.plot(history.history['val_loss'])\n",
        "plt.plot(history.history['val_accuracy'])"
      ],
      "execution_count": 55,
      "outputs": [
        {
          "output_type": "execute_result",
          "data": {
            "text/plain": [
              "[<matplotlib.lines.Line2D at 0x7fbc73e29610>]"
            ]
          },
          "metadata": {},
          "execution_count": 55
        },
        {
          "output_type": "display_data",
          "data": {
            "image/png": "[encoded data removed]",
            "text/plain": [
              "<Figure size 432x288 with 1 Axes>"
            ]
          },
          "metadata": {
            "needs_background": "light"
          }
        }
      ]
    },
    {
      "cell_type": "code",
      "metadata": {
        "id": "I6wWhBU2w_yp"
      },
      "source": [
        ""
      ],
      "execution_count": null,
      "outputs": []
    }
  ]
}